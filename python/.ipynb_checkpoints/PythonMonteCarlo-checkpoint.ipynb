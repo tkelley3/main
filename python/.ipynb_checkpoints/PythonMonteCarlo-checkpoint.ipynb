{
 "cells": [
  {
   "cell_type": "markdown",
   "metadata": {},
   "source": [
    "Monte Carlo integration\n",
    "=======================\n",
    "\n",
    "Imagine that we want to measure the area of a pond with arbitrary shape.\n",
    "Suppose that this pond is in the middle of a field with known area $A$.\n",
    "If we throw $N$ stones randomly, such that they land within the\n",
    "boundaries of the field, and we count the number of stones that fall in\n",
    "the pond $N_{in}$, the area of the pond will be approximately\n",
    "proportional to the fraction of stones that make a splash, multiplied by\n",
    "$A$: $$A_{pond}=\\frac{N_{in}}{N}A.$$ This simple procedure is an example\n",
    "of the “Monte Carlo” method.\n",
    "\n",
    "Simple Monte Carlo integration\n",
    "------------------------------\n",
    "\n",
    "More generaly, imagine a rectangle of height $H$ in the integration\n",
    "interval $[a,b]$, such that the function $f(x)$ is within its\n",
    "boundaries. Compute $n$ pairs of random numbers $(x_i,y_i)$ such that\n",
    "they are uniformly distributed inside this rectangle. The fraction of\n",
    "points that fall within the area contained below $f(x)$, <span>*i.\n",
    "e.*</span>, that satisfy $y_i \\leq f(x_i)$ is an estimate of the ratio of the integral of $f(x)$ and the area of the rectangle. Hence, the\n",
    "estimate of the integral will be given by:\n",
    "$$\\int _a^b{f(x)dx} \\simeq I(N) = \\frac{N_{in}}{N}H(b-a).\n",
    "$$\n",
    "\n",
    "Another Monte Carlo procedure is based on the definition:\n",
    "$$\\langle f \\rangle=\\frac{1}{(b-a)} \\int _a^b{f(x)dx}.\n",
    "$$ In order to determine this average, we sample the\n",
    "value of $f(x)$:\n",
    "$$\\langle f \\rangle \\simeq \\frac{1}{N}\\sum_{i=1}^{N}f(x_i),$$ where the\n",
    "$N$ values $x_i$ are distributed unformly in the interval $[a,b]$. The\n",
    "integral will be given by \\begin{equation}I(N)=(b-a) \\langle f \\rangle.\\end{equation}\n",
    "\n",
    "Monte Carlo error analysis\n",
    "--------------------------\n",
    "\n",
    "The Monte Carlo method clearly yields approximate results. The accuracy\n",
    "depends on the number of values $N$ that we use for the average. A\n",
    "possible measure of the error is the “variance” $\\sigma^2$ defined by:\n",
    "\\begin{equation}\\sigma ^2=\\langle f^2 \\rangle - \\langle f \\rangle ^2,\\end{equation}\n",
    " where\n",
    "$$\\langle f \\rangle = \\frac{1}{N} \\sum_{i=1}^N f(x_i)$$ and\n",
    "$$\\langle f^2 \\rangle = \\frac{1}{N} \\sum_{i=1}^{N} f(x_i)^2.$$ The\n",
    "“standard deviation” is $\\sigma$. However, we should expect that the\n",
    "error decreases with the number of points $N$, and the quantity $\\sigma$\n",
    "defined by (2) does not. Hence, this cannot be a good\n",
    "measure of the error.\n",
    "\n",
    "Imagine that we perform several measurements of the integral, each of\n",
    "them yielding a result $I_n$. These values have been obtained with\n",
    "different sequences of $N$ random numbers. According to the central\n",
    "limit theorem, these values whould be normally dstributed around a mean\n",
    "$\\langle I\n",
    "\\rangle$. Suppose that we have a set of $M$ of such measurements\n",
    "${I_n}$. A convenient measure of the differences of these measurements\n",
    "is the “standard deviation of the means” $\\sigma_M$:\n",
    "\\begin{equation}\\sigma_M ^2=\\langle I^2 \\rangle - \\langle I \\rangle ^2,\n",
    "\\end{equation} where\n",
    "$$\\langle I \\rangle = \\frac{1}{M} \\sum_{n=1}^M I_n$$ and\n",
    "$$\\langle I^2 \\rangle = \\frac{1}{M} \\sum_{n=1}^{M} I_n^2.$$ \n",
    "It can be proven that\n",
    "\\begin{equation}\\sigma_M \\approx \\sigma/\\sqrt{N}.\\end{equation} \n",
    "This relation becomes exact in the limit of a very\n",
    "large number of measurements. Note that this expression implies that the\n",
    "error decreases with the square root of the number of trials, meaning\n",
    "that if we want to reduce the error by a factor 10, we need 100 times\n",
    "more points for the average.\n",
    "\n",
    "### Example: One dimensional integration \n",
    "Consider the function:\n",
    "\n",
    "1.  Write a program that implements the “hit and miss” Monte Carlo\n",
    "    integration algorithm. Find the estimate $I(N)$ for the integral of\n",
    "    $$f(x)=4\\sqrt{1-x^2}$$ as a function of $N$, in the interval\n",
    "    $(0,1)$. Choose $H=1$, and sample only the $x$-dependent part\n",
    "    $\\sqrt{1-x^2}$, and multiply the result by 4. Calculate the\n",
    "    difference between $I(N)$ and the exact result $\\pi$. This\n",
    "    difference is a measure of the error associated with the Monte\n",
    "    Carlo estimate. Make a log-log plot of the error as a function of\n",
    "    $N$. What is the approximate functional dependence of the error on\n",
    "    $N$ for large $N$?\n",
    "\n",
    "2.  Estimate the integral of $f(x)$ using the simple Monte Carlo\n",
    "    integration by averaging over $N$ points, using (1),\n",
    "    and compute the error as a function of $N$, for $N$ up to 10,000.\n",
    "    Determine the approximate functional deppendence of the error on $N$\n",
    "    for large $N$. How many trials are necessary to determine $I_N$ to\n",
    "    two decimal places?\n",
    "\n",
    "3.  Perform 10 measurements $I_n(N)$, with $N=10,000$ using different\n",
    "    random sequences. Show in a table the values of $I_n$ and $\\sigma$\n",
    "    according to (1) and (2).\n",
    "    Use (3) to estimate the standard deviation of the\n",
    "    means, and compare to the values obtained from (4)\n",
    "    using the 100,000 values.\n",
    "\n",
    "4.  To verify that your result for the error is independent of the\n",
    "    number of sets you used to divide your data, repeat the previous\n",
    "    item grouping your results in 20 groups of 5,000 points each.\n"
   ]
  },
  {
   "cell_type": "code",
   "execution_count": 2,
   "metadata": {},
   "outputs": [
    {
     "data": {
      "text/plain": [
       "[<matplotlib.lines.Line2D at 0x1df4dca0f28>]"
      ]
     },
     "execution_count": 2,
     "metadata": {},
     "output_type": "execute_result"
    },
    {
     "data": {
      "image/png": "[encoded data removed]",
      "text/plain": [
       "<Figure size 432x288 with 1 Axes>"
      ]
     },
     "metadata": {
      "needs_background": "light"
     },
     "output_type": "display_data"
    }
   ],
   "source": [
    "%matplotlib inline\n",
    "import numpy as np\n",
    "from matplotlib import pyplot\n",
    "\n",
    "x = np.arange(0,1,0.02)\n",
    "pyplot.plot(x, 4*np.sqrt(1-x**2))"
   ]
  },
  {
   "cell_type": "code",
   "execution_count": 3,
   "metadata": {},
   "outputs": [
    {
     "name": "stdout",
     "output_type": "stream",
     "text": [
      "100 81 3.24 0.0984073464102071\n",
      "200 153 3.06 0.08159265358979306\n",
      "400 315 3.15 0.008407346410206795\n",
      "800 636 3.18 0.038407346410207044\n",
      "1600 1260 3.15 0.008407346410206795\n",
      "3200 2515 3.14375 0.0021573464102067064\n",
      "6400 4980 3.1125 0.029092653589793294\n",
      "12800 10070 3.146875 0.005282346410206973\n",
      "25600 20145 3.14765625 0.006063596410206706\n",
      "51200 40167 3.138046875 0.0035457785897929917\n",
      "102400 80513 3.1450390625 0.0034464089102068662\n",
      "204800 161268 3.149765625 0.008172971410207008\n",
      "409600 321472 3.139375 0.0022176535897933114\n",
      "819200 642924 3.13927734375 0.0023153098397932226\n",
      "1638400 1286765 3.14151611328125 7.654030854320482e-05\n",
      "3276800 2574004 3.1420947265625 0.0005020729727069906\n"
     ]
    },
    {
     "data": {
      "image/png": "[encoded data removed]",
      "text/plain": [
       "<Figure size 432x288 with 1 Axes>"
      ]
     },
     "metadata": {
      "needs_background": "light"
     },
     "output_type": "display_data"
    }
   ],
   "source": [
    "# Part 1\n",
    "# Hit and miss Monte Carlo integration\n",
    "ngroups = 16\n",
    "\n",
    "I = np.zeros(ngroups)\n",
    "N = np.zeros(ngroups)\n",
    "E = np.zeros(ngroups)\n",
    "\n",
    "n0 = 100\n",
    "for i in range(ngroups):\n",
    "\n",
    "    N[i] = n0\n",
    "    x = np.random.random(n0)\n",
    "    y = np.random.random(n0)\n",
    "    I[i] = 0.\n",
    "    Nin = 0\n",
    "    for j in range(n0):\n",
    "        if(y[j] < np.sqrt(1-x[j]**2)):\n",
    "            Nin += 1\n",
    "            \n",
    "    I[i] = 4.*float(Nin)/float(n0)\n",
    "    E[i] = abs(I[i]-np.pi)\n",
    "    print (n0,Nin,I[i],E[i])\n",
    "    n0 *= 2\n",
    "    \n",
    "            \n",
    "pyplot.plot(N,E,ls='-',c='red',lw=3);\n",
    "pyplot.plot(N,1/np.sqrt(N),ls='-',c='blue',lw=3);\n",
    "pyplot.xscale('log')\n",
    "pyplot.yscale('log')"
   ]
  },
  {
   "cell_type": "code",
   "execution_count": 4,
   "metadata": {},
   "outputs": [
    {
     "name": "stdout",
     "output_type": "stream",
     "text": [
      "100 3.2253833126761235 0.08379065908633043\n",
      "200 3.181230498955792 0.0396378453659989\n",
      "400 3.0883334099195423 0.05325924367025081\n",
      "800 3.1942853641502165 0.05269271056042335\n",
      "1600 3.126410650508694 0.015182003081099182\n",
      "3200 3.1409686150492737 0.0006240385405194004\n",
      "6400 3.11979366234754 0.021798991242253152\n",
      "12800 3.1516999855704446 0.010107331980651502\n",
      "25600 3.1377081724138884 0.003884481175904675\n",
      "51200 3.142017806186391 0.00042515259659792193\n",
      "102400 3.1443438308089124 0.0027511772191193273\n",
      "204800 3.1416293169120793 3.666332228613456e-05\n",
      "409600 3.1431528705131013 0.0015602169233082108\n",
      "819200 3.1412661690527877 0.0003264845370054559\n",
      "1638400 3.1410923888898434 0.0005002646999496818\n",
      "3276800 3.1416547744176166 6.212082782353079e-05\n"
     ]
    },
    {
     "data": {
      "image/png": "[encoded data removed]",
      "text/plain": [
       "<Figure size 432x288 with 1 Axes>"
      ]
     },
     "metadata": {
      "needs_background": "light"
     },
     "output_type": "display_data"
    }
   ],
   "source": [
    "# Simple Monte Carlo Integration\n",
    "ngroups = 16\n",
    "\n",
    "I = np.zeros(ngroups)\n",
    "N = np.zeros(ngroups)\n",
    "E = np.zeros(ngroups)\n",
    "\n",
    "n0 = 100\n",
    "for i in range(ngroups):\n",
    "\n",
    "    N[i] = n0\n",
    "    r = np.random.random(n0)\n",
    "    I[i] = 0.\n",
    "    for j in range(n0):\n",
    "        x = r[j]\n",
    "        I[i] += np.sqrt(1-x**2)\n",
    "        \n",
    "    I[i] *= 4./float(n0)\n",
    "    E[i] = abs(I[i]-np.pi)\n",
    "    print(n0,I[i],E[i])\n",
    "    n0 *= 2\n",
    "    \n",
    "            \n",
    "pyplot.plot(N,E,ls='-',c='red',lw=3);\n",
    "pyplot.plot(N,1/np.sqrt(N),ls='-',c='blue',lw=3);\n",
    "pyplot.xscale('log')\n",
    "pyplot.yscale('log')"
   ]
  },
  {
   "cell_type": "code",
   "execution_count": 7,
   "metadata": {},
   "outputs": [
    {
     "name": "stdout",
     "output_type": "stream",
     "text": [
      "3.1436102530083407 10.673249586715562 0.7909641638963976\n",
      "3.1544519492571528 10.731320821478853 0.7807537213066027\n",
      "3.140729942368372 10.6669823065318 0.802797735642562\n",
      "3.160255715512171 10.759919201295977 0.7727030138686324\n",
      "3.155079875450784 10.731061791730038 0.7765327712555035\n",
      "3.148691773488195 10.702766772385276 0.7885068879530408\n",
      "3.141322246185886 10.656117297768983 0.7882118433866427\n",
      "3.1301738202923692 10.603130184673665 0.8051420394299402\n",
      "3.1404790926401107 10.651122750257576 0.7885138189479228\n",
      "3.148039054853189 10.698969362507595 0.7888194716266366\n",
      "=============================\n",
      "3.1276999011643345 10.602558261800196 0.8200515900568082\n",
      "3.1595206048523177 10.743940911630958 0.7613704591446027\n",
      "3.144681306450688 10.701733177223238 0.8127126580828303\n",
      "3.1642225920636005 10.760908465734502 0.7486038536088113\n",
      "3.1350902250729358 10.637471659200605 0.8086809398527333\n",
      "3.1463696596637996 10.696492953863066 0.796850918610172\n",
      "3.1493852995740266 10.716879266723362 0.7982515015503804\n",
      "3.1711261314503014 10.802959135868566 0.7469181943016121\n",
      "3.1628809615189586 10.77636269248734 0.7725467157482466\n",
      "3.1472787893825775 10.6857608909727 0.7803971128752369\n",
      "3.1462584598763685 10.67767422339577 0.7787319270521529\n",
      "3.1511250870999974 10.727859321374787 0.7982700068238202\n",
      "3.1585977763979396 10.753661794000392 0.776921880934383\n",
      "3.1240467159738476 10.558572801537558 0.7989049179505763\n",
      "3.123124655396073 10.579694480629113 0.8257868674862721\n",
      "3.137222985188657 10.626565888718224 0.784397829922197\n",
      "3.1459059331583803 10.686042788118169 0.7893186478370691\n",
      "3.1350522521218513 10.61620271239694 0.7876500888626463\n",
      "3.1390754731769097 10.646868591696833 0.7930737653959934\n",
      "3.1570026365294575 10.751070133318374 0.7844044862644282\n",
      "=============================\n",
      "3.1462833723056534 10.68746400753451 0.7883649486874749\n"
     ]
    }
   ],
   "source": [
    "# Part 3 and Part 4\n",
    "n0 = 100000\n",
    "I = np.zeros(n0)\n",
    "r = np.random.random(n0)\n",
    "for j in range(n0):\n",
    "    x = r[j]\n",
    "    I[j] = 4*np.sqrt(1-x**2)\n",
    "\n",
    "def group_measurements(ngroups):\n",
    "    global I,n0\n",
    "    \n",
    "    nmeasurements = n0/ngroups\n",
    "    for n in range(ngroups):\n",
    "        Ig = 0.\n",
    "        Ig2 = 0.\n",
    "        for i in range(int(n*nmeasurements),int((n+1)*nmeasurements)):\n",
    "            Ig += I[i]\n",
    "            Ig2 += I[i]**2\n",
    "        Ig /= nmeasurements\n",
    "        Ig2 /= nmeasurements\n",
    "        sigma = Ig2-Ig**2\n",
    "        print(Ig,Ig2,sigma)\n",
    "        \n",
    "group_measurements(10)\n",
    "print(\"=============================\")\n",
    "group_measurements(20)\n",
    "print(\"=============================\")\n",
    "group_measurements(1)\n",
    "\n",
    "\n"
   ]
  },
  {
   "cell_type": "markdown",
   "metadata": {},
   "source": [
    "Variance reduction\n",
    "------------------\n",
    "\n",
    "If the function being integrated does not fluctuate too much in the\n",
    "interval of integration, and does not differ much from the average\n",
    "value, then the standard Monte Carlo mean-value method should work well\n",
    "with a reasonable number of points. Otherwise, we will find that the\n",
    "variance is very large, meaning that some points will make small\n",
    "contributions, while others will make large contributions to the\n",
    "integral. If this is the case, the algorithm will be very inefficient.\n",
    "The method can be improved by splitting the function $f(x)$ in two\n",
    "$f(x)=f_1(x)+f_2(x)$, such that the integral of $f_1(x)$ is known, and\n",
    "$f_2(x)$ as a small variance. The “variance reduction” technique,\n",
    "consists then in evaluating the integral of $f_2(x)$ to obtain:\n",
    "$$\\int _a^b{f(x)dx}=\\int _a^b {f_1(x)dx} + \\int _a^b{f_2(x)dx} = \\int\n",
    "_a^b{f_1(x)dx}+J.$$\n",
    "\n",
    "Importance Sampling\n",
    "-------------------\n",
    "\n",
    "Imagine that we want to sample the function $f(x)=e^{-x^2}$ in the\n",
    "interval $[0,1]$. It is evident that most of our points will fall in the\n",
    "region where the value of $f(x)$ is very small, and therefore we will\n",
    "need a large number of values to achieve a decent accuracy. A way to\n",
    "improve the measurement by reducing the variance is obtained by\n",
    "“importance sampling”. As the name says, the idea is to sample the\n",
    "regions with larger contributions to the integral. For this goal, we\n",
    "introduce a probability distribution $P(x)$ **normalized in the interval\n",
    "of integration** $$\\int _a^b{P(x)dx} = 1.$$ Then, we can rewrite the\n",
    "integral of $f(x)$ as $$I=\\int _a^b{\\frac{f(x)}{P(x)}P(x)dx}\n",
    "$$ We can evaluate this integral, by sampling\n",
    "according to the probability distribution $P(x)$ and evaluating the sum\n",
    "$$I(N)=\\frac{1}{N} \\sum_{i=1}^N \\frac{f(x_i)}{P(x_i)}.\n",
    "$$ Note that for the uniform case $P(x)=1/(b-a)$, the\n",
    "expression reduces to the simple Monte Carlo integral.\n",
    "\n",
    "We are free to choose $P(x)$ now. We wish to do it in a way to reduce\n",
    "and minimize the variance of the integrand $f(x)/P(x)$. The way to to\n",
    "this is picking a $P(x)$ that mimics $f(x)$ where $f(x)$ is large. if we\n",
    "are able to determine an apropiate $P(x)$, the integrand will be slowly\n",
    "varying, and hence the variance will be reduced. Another consideration\n",
    "is that the generation of points according to the distribution $P(x)$\n",
    "should be a simple task. As an example, let us consider again the\n",
    "integral $$I=\\int _0^1 {e^{-x^2}dx}.$$ A reasonable choice for a weigh\n",
    "function is $P(x)=Ae^{-x}$, where $A$ is a normalization constant.\n",
    "\n",
    "Notice that for $P(x)=f(x)$ the variance is zero! This is known as the\n",
    "zero variance property. There is a catch, though: The probability function\n",
    "$P(x)$ needs to be normalized, implying that in reality, $P(x)=f(x)/\\int f(x)dx$, which\n",
    "assumes that we know in advance precisely the integral that we are trying to calculate!\n",
    "\n",
    "### Exercise 2: Importance sampling \n",
    "\n",
    "1.  Choose the weight function $P(x)=e^{-x}$ and evaluate the integral:\n",
    "    $$\\int _0^{\\infty} {x^{3/2}e^{-x}dx}.$$\n",
    "\n",
    "2.  Choose $P(x)=e^{-ax}$ and estimate the integral\n",
    "    $$\\int _0^{\\pi} \\frac{dx}{x^2+\\cos ^2{x}}.$$ Determine the value of\n",
    "    $a$ that minimizes the variance of the integral.\n",
    "\n"
   ]
  },
  {
   "cell_type": "code",
   "execution_count": 36,
   "metadata": {},
   "outputs": [
    {
     "data": {
      "image/png": "[encoded data removed]",
      "text/plain": [
       "<Figure size 432x288 with 1 Axes>"
      ]
     },
     "metadata": {
      "needs_background": "light"
     },
     "output_type": "display_data"
    }
   ],
   "source": [
    "pyplot.xlim(0,10)\n",
    "x = np.arange(0,10,0.1)\n",
    "pyplot.plot(x,np.exp(-x),'b--');\n",
    "pyplot.plot(x,x**1.5*np.exp(-x));"
   ]
  },
  {
   "cell_type": "code",
   "execution_count": 35,
   "metadata": {},
   "outputs": [
    {
     "name": "stdout",
     "output_type": "stream",
     "text": [
      "Trapezoids:  1.3293401896452883\n",
      "Simple Monte Carlo:  0.20045383582438148\n",
      "Importance Sampling:  1.3285194570510024\n"
     ]
    },
    {
     "data": {
      "image/png": "[encoded data removed]",
      "text/plain": [
       "<Figure size 432x288 with 1 Axes>"
      ]
     },
     "metadata": {
      "needs_background": "light"
     },
     "output_type": "display_data"
    }
   ],
   "source": [
    "pyplot.plot(x,np.exp(-x));\n",
    "\n",
    "# Trapezoidal integration\n",
    "def trapezoids(func, xmin, xmax, nmax):\n",
    "    Isim = func(xmin)+func(xmax)\n",
    "    h = (xmax-xmin)/nmax\n",
    "    for i in range(1,nmax):\n",
    "        x = xmin+i*h\n",
    "        Isim += 2*func(x)\n",
    "\n",
    "    Isim *= h/2\n",
    "    return Isim\n",
    "\n",
    "def f(x):\n",
    "    return x**1.5*np.exp(-x)\n",
    "    \n",
    "    \n",
    "print(\"Trapezoids: \", trapezoids(f, 0., 20., 100000))\n",
    "\n",
    "# Simple Monte Carlo integration\n",
    "n0 = 1000000\n",
    "r = np.random.random(n0)\n",
    "\n",
    "Itot = np.sum(r**1.5*np.exp(-r))\n",
    "print(\"Simple Monte Carlo: \", Itot/n0)\n",
    "\n",
    "x = -np.log(r)\n",
    "Itot = np.sum(x**1.5)\n",
    "print(\"Importance Sampling: \", Itot/n0)"
   ]
  },
  {
   "cell_type": "code",
   "execution_count": 38,
   "metadata": {},
   "outputs": [
    {
     "data": {
      "image/png": "[encoded data removed]",
      "text/plain": [
       "<Figure size 432x288 with 1 Axes>"
      ]
     },
     "metadata": {
      "needs_background": "light"
     },
     "output_type": "display_data"
    }
   ],
   "source": [
    "pyplot.xlim(0,np.pi)\n",
    "x = np.arange(0,np.pi,0.05)\n",
    "pyplot.plot(x,1./(x**2+np.cos(x)**2),'b--');\n",
    "pyplot.plot(x,np.exp(-x),'k-');\n",
    "pyplot.plot(x,np.exp(-2*x),'r-');\n",
    "pyplot.plot(x,np.exp(-0.2*x),'g-');"
   ]
  },
  {
   "cell_type": "code",
   "execution_count": 42,
   "metadata": {},
   "outputs": [
    {
     "name": "stdout",
     "output_type": "stream",
     "text": [
      "Trapezoids:  1.5811879708433796\n",
      "Simple Monte Carlo:  1.5834155360864797\n",
      "Importance Sampling:\n",
      "0.5 1.5144296891748918 0.003328617390060494\n",
      "0.6 1.5397756821553592 0.002825022183839675\n",
      "0.7 1.5633078436080698 0.00232417244588695\n",
      "0.7999999999999999 1.579187968279851 0.0017085528978967107\n",
      "0.8999999999999999 1.5834814423662733 0.0005712659633395575\n",
      "0.9999999999999999 1.572771876066453 0.0015713711776643646\n",
      "1.0999999999999999 1.5449147119773516 0.0023306847714964322\n",
      "1.1999999999999997 1.4996863441515502 0.00289745221031304\n",
      "1.2999999999999998 1.4395378631404319 0.00333603742850558\n",
      "1.4 1.3679410646953203 0.0036599799369434216\n",
      "1.4999999999999998 1.2899159812084224 0.0038847242470482837\n",
      "1.5999999999999996 1.208773980372749 0.004010542042127037\n",
      "1.6999999999999997 1.1283649351323688 0.004056380239108931\n"
     ]
    },
    {
     "data": {
      "text/plain": [
       "[<matplotlib.lines.Line2D at 0x1df4f9efcc0>]"
      ]
     },
     "execution_count": 42,
     "metadata": {},
     "output_type": "execute_result"
    },
    {
     "data": {
      "image/png": "[encoded data removed]",
      "text/plain": [
       "<Figure size 432x288 with 1 Axes>"
      ]
     },
     "metadata": {
      "needs_background": "light"
     },
     "output_type": "display_data"
    }
   ],
   "source": [
    "# Trapezoidal integration\n",
    "N=100000\n",
    "def g(x):\n",
    "    return 1./(x**2+np.cos(x)**2)\n",
    "\n",
    "print(\"Trapezoids: \", trapezoids(g, 0., np.pi, N))\n",
    "\n",
    "# Simple Monte Carlo integration\n",
    "n0 = N\n",
    "a = np.arange(0.5,1.8,0.1)\n",
    "I = np.zeros(np.size(a))\n",
    "Ivar = np.zeros(np.size(a))\n",
    "\n",
    "\n",
    "r = np.random.random(n0)\n",
    "\n",
    "I0 = np.sum(1./((r*np.pi)**2+np.cos(r*np.pi)**2))\n",
    "print(\"Simple Monte Carlo: \", I0/n0*np.pi)\n",
    "\n",
    "# Importance Sampling\n",
    "print(\"Importance Sampling:\")\n",
    "x = -np.log(r)\n",
    "              \n",
    "i = 0\n",
    "for ai in a:\n",
    "    norm = (1-np.exp(-ai*np.pi))/ai #You need a normalized probability distribution\n",
    "    x1 = norm*x/ai\n",
    "    Itot = 0.\n",
    "    Nin = 0\n",
    "    I2 = 0.\n",
    "    for xi in x1:\n",
    "        if(xi <= np.pi):\n",
    "            Nin += 1\n",
    "            Itot += g(xi)*np.exp(xi*ai)\n",
    "            I2 += (g(xi)*np.exp(xi*ai))**2\n",
    "\n",
    "    Itot *= norm\n",
    "    I2 *= norm\n",
    "\n",
    "    I[i] = Itot/Nin\n",
    "    Ivar[i]=np.sqrt(abs(Itot**2/Nin**2-I2/Nin))/np.sqrt(Nin)\n",
    "    print(ai,Itot/Nin,Ivar[i])\n",
    "    i += 1\n",
    "    \n",
    "#pyplot.plot(a,I,ls='-',marker='o',c='red',lw=3);\n",
    "pyplot.plot(a,Ivar)\n"
   ]
  },
  {
   "cell_type": "markdown",
   "metadata": {},
   "source": [
    "### Exercise 3: The Metropolis algorithm \n",
    "\n",
    "Use the Metropolis algorithm to sample points according to a distribution\n",
    "and estimate the integral $$\\int _0^4 {x^2e^{-x}dx},$$ with\n",
    "$P(x)=e^{-x}$ for $0 \\leq x \\leq 4$. Plot the number of times the\n",
    "walker is at points $x_0$, $x_1$, $x_2$, ... Is the integrand sampled\n",
    "uniformly? If not, what is the approximate region of $x$ where the\n",
    "integrand is sampled more often?"
   ]
  },
  {
   "cell_type": "code",
   "execution_count": 26,
   "metadata": {},
   "outputs": [
    {
     "name": "stdout",
     "output_type": "stream",
     "text": [
      "('Trapezoids: ', 1.5237933888733828)\n",
      "('Metropolis: ', 1.5251458730929552)\n"
     ]
    },
    {
     "data": {
      "image/png": "[encoded data removed]",
      "text/plain": [
       "<matplotlib.figure.Figure at 0x10b782b10>"
      ]
     },
     "metadata": {},
     "output_type": "display_data"
    }
   ],
   "source": [
    "delta = 2\n",
    "xmin = 0.\n",
    "xmax = 4.\n",
    "\n",
    "def f(x):\n",
    "    return x**2*np.exp(-x)\n",
    "\n",
    "def P(x):\n",
    "    global xmin, xmax\n",
    "    if(x < xmin or x > xmax):\n",
    "        return 0.\n",
    "    return np.exp(-x)\n",
    "\n",
    "\n",
    "def metropolis(xold):\n",
    "    global delta\n",
    "    xtrial = np.random.random()    \n",
    "    xtrial = xold+(2*xtrial-1)*delta\n",
    "    weight = P(xtrial)/P(xold)\n",
    "    xnew = xold\n",
    "    if(weight >= 1): #Accept\n",
    "        xnew = xtrial\n",
    "    elif(weight != 0):\n",
    "        r = np.random.random()\n",
    "        if(r <= weight): #Accept\n",
    "            xnew = xtrial\n",
    "    return xnew\n",
    "\n",
    "\n",
    "xwalker = (xmax+xmin)/2.\n",
    "for i in range(100000):\n",
    "    xwalker = metropolis(xwalker)\n",
    "\n",
    "I0 = 0.\n",
    "N = 300000\n",
    "\n",
    "x = np.zeros(N)\n",
    "\n",
    "x[0] = xwalker\n",
    "for i in range(1,N):\n",
    "    for j in range(20):\n",
    "        xwalker = metropolis(xwalker)\n",
    "    x[i] = xwalker\n",
    "    I0 += x[i]**2\n",
    "\n",
    "binwidth=0.1\n",
    "pyplot.hist(x,bins=np.arange(xmin-1, xmax+1, 0.1),normed=True);\n",
    "\n",
    "print(\"Trapezoids: \", trapezoids(f,xmin,xmax,100000))\n",
    "print(\"Metropolis: \", I0*(1.-np.exp(-4.))/N)"
   ]
  },
  {
   "cell_type": "code",
   "execution_count": 23,
   "metadata": {},
   "outputs": [
    {
     "data": {
      "image/png": "[encoded data removed]",
      "text/plain": [
       "<matplotlib.figure.Figure at 0x106da8710>"
      ]
     },
     "metadata": {},
     "output_type": "display_data"
    }
   ],
   "source": [
    "pyplot.hist(x**2,bins=np.arange(xmin**2-1, xmax**2+1, 0.1),normed=True);"
   ]
  },
  {
   "cell_type": "markdown",
   "metadata": {},
   "source": []
  }
 ],
 "metadata": {
  "kernelspec": {
   "display_name": "Python 3",
   "language": "python",
   "name": "python3"
  },
  "language_info": {
   "codemirror_mode": {
    "name": "ipython",
    "version": 3
   },
   "file_extension": ".py",
   "mimetype": "text/x-python",
   "name": "python",
   "nbconvert_exporter": "python",
   "pygments_lexer": "ipython3",
   "version": "3.8.3"
  }
 },
 "nbformat": 4,
 "nbformat_minor": 1
}
