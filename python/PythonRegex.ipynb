{
 "cells": [
  {
   "cell_type": "markdown",
   "metadata": {},
   "source": [
    "# Regular Expressions\n",
    "\n",
    "The term `Regular Expression` refers to sequences of characters that form search parameters for texts patterns. Python has a package `re`, containing functions used in Regular Expressions. This package has 4 main functions:\n",
    "\n",
    "- `findall` - returns a list containing all matches\n",
    "- `search` - returns a `match object` if a match exists\n",
    "- `split` - returns a list where the string has been split at each match\n",
    "- `sub` - replaces all matches in a string with other specified characters\n",
    "\n",
    "More information about the metacharacters and special sequences can be found here: [Regex in Python](https://docs.python.org/3/howto/regex.html)"
   ]
  },
  {
   "cell_type": "code",
   "execution_count": 2,
   "metadata": {},
   "outputs": [],
   "source": [
    "import re"
   ]
  },
  {
   "cell_type": "markdown",
   "metadata": {},
   "source": [
    "## Finding a match\n",
    "`findall` returns a list of all the matches that correspond to the regular expression pattern."
   ]
  },
  {
   "cell_type": "code",
   "execution_count": 4,
   "metadata": {},
   "outputs": [
    {
     "name": "stdout",
     "output_type": "stream",
     "text": [
      "['mainl', 'plains']\n"
     ]
    }
   ],
   "source": [
    "str1 = \"The rain in Spain falls mainly on the plains\"\n",
    "pat1 = r\"\\w+ain\\w*\"\n",
    "x1 = re.findall(pat1,str1)\n",
    "print(x1)"
   ]
  },
  {
   "cell_type": "code",
   "execution_count": 7,
   "metadata": {},
   "outputs": [
    {
     "name": "stdout",
     "output_type": "stream",
     "text": [
      "['Denise', 'Dennis', 'deny', 'denouncing', 'dentist', 'denials', 'denominated']\n"
     ]
    }
   ],
   "source": [
    "str2=\"Denise and Dennis deny denouncing their dentist. Their denials denominated the news.\"\n",
    "pat2=r\"[Dd]en\\w*\"\n",
    "x2 = re.findall(pat2,str2)\n",
    "print(x2)"
   ]
  },
  {
   "cell_type": "markdown",
   "metadata": {},
   "source": [
    "## Search for only the first match\n",
    "The only significant difference between `findall` and `search` is that `search` will only find **the first match** in the string of interest. "
   ]
  },
  {
   "cell_type": "code",
   "execution_count": 8,
   "metadata": {},
   "outputs": [
    {
     "name": "stdout",
     "output_type": "stream",
     "text": [
      "<re.Match object; span=(4, 8), match='rain'>\n"
     ]
    }
   ],
   "source": [
    "str1 = \"The rain in Spain falls mainly on the plains\"\n",
    "pat1 = r\"\\w+ain\\w*\"\n",
    "x = re.search(pat1,str1)\n",
    "print(x)"
   ]
  },
  {
   "cell_type": "markdown",
   "metadata": {},
   "source": [
    "There are several methods that you can use to access the information in the Match object produced by `search`. These methods can give you the indices of the match, the match, and the original string."
   ]
  },
  {
   "cell_type": "code",
   "execution_count": 9,
   "metadata": {},
   "outputs": [
    {
     "name": "stdout",
     "output_type": "stream",
     "text": [
      "4\n",
      "8\n",
      "(4, 8)\n",
      "The rain in Spain falls mainly on the plains\n",
      "rain\n"
     ]
    }
   ],
   "source": [
    "print(x.start())\n",
    "print(x.end())\n",
    "print(x.span())\n",
    "print(x.string)\n",
    "print(x.group())"
   ]
  },
  {
   "cell_type": "markdown",
   "metadata": {},
   "source": [
    "## Splitting apart\n",
    "The `split` function in `re` allows you to split your string on any character(s) you wish. There are also optional arguments allowing you to specify the exact number of splits you wish to make in a given string"
   ]
  },
  {
   "cell_type": "code",
   "execution_count": 11,
   "metadata": {},
   "outputs": [
    {
     "name": "stdout",
     "output_type": "stream",
     "text": [
      "['But', 'in', 'a', 'larger', 'sense', 'we', 'can', 'not', 'dedicate', 'we', 'can', 'not', 'consecrate', 'we', 'can', 'not', 'hallow', 'this', 'ground', '']\n",
      "['But, in a larger sense, we can not dedicate', 'we can not consecrate', 'we can not hallow', 'this ground.']\n"
     ]
    }
   ],
   "source": [
    "getty = \"But, in a larger sense, we can not dedicate—we can not consecrate—we can not hallow—this ground.\";\n",
    "pat3 = r'[\\s.—,]+'\n",
    "pat4 = r'[—]'\n",
    "x3=re.split(pat3,getty)\n",
    "x4=re.split(pat4,getty,4)\n",
    "print(x3)\n",
    "print(x4)"
   ]
  },
  {
   "cell_type": "markdown",
   "metadata": {},
   "source": [
    "## Substitution\n",
    "The function `sub` will return the altered string after it substitutes a replacement substring."
   ]
  },
  {
   "cell_type": "code",
   "execution_count": 12,
   "metadata": {},
   "outputs": [
    {
     "name": "stdout",
     "output_type": "stream",
     "text": [
      "urise and urnis ury urouncing their urtist. Their urials urominated the news.\n"
     ]
    }
   ],
   "source": [
    "x5 = re.sub(r\"[Dd]en\",r\"ur\",str2)\n",
    "print(x5)"
   ]
  }
 ],
 "metadata": {
  "kernelspec": {
   "display_name": "Python 3",
   "language": "python",
   "name": "python3"
  },
  "language_info": {
   "codemirror_mode": {
    "name": "ipython",
    "version": 3
   },
   "file_extension": ".py",
   "mimetype": "text/x-python",
   "name": "python",
   "nbconvert_exporter": "python",
   "pygments_lexer": "ipython3",
   "version": "3.8.3"
  }
 },
 "nbformat": 4,
 "nbformat_minor": 4
}
